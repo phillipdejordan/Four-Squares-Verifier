{
 "cells": [
  {
   "cell_type": "code",
   "execution_count": 9,
   "id": "1edaa775-5a44-4e9e-acf4-1eae7a58adaf",
   "metadata": {},
   "outputs": [],
   "source": [
    "import numpy as np "
   ]
  },
  {
   "cell_type": "code",
   "execution_count": 275,
   "id": "989d646b-a804-40ce-bbe6-d29d3a168670",
   "metadata": {},
   "outputs": [],
   "source": [
    "def relister(list_of_lists): \n",
    "    # This function has the following use: given a list of lists, assumed to be of equal length, it creates a series of lists containing \n",
    "    # the nth element of each list: for example, given [[1,2,3],[4,5,6],[7,8,9]], we would expect this\n",
    "    # function to return [[1,4,7],[2,5,8],[3,6,9]]\n",
    "    list1 = [] \n",
    "    \n",
    "    for i in range(len(list_of_lists[0])): \n",
    "        list_i = [list_of_lists[j][i] for j in range(len(list_of_lists))] \n",
    "        list1.append(list_i)\n",
    "    return list1  \n",
    "\n",
    "relister([[1,2,3],[4,5,6],[7,8,9]])\n",
    "\n",
    "def unique_lister(list_of_lists): \n",
    "    # This function is slightly more complicated: given a list of lists, we seek only the unique lists, \n",
    "    # regardless of order. For example, [[1,2],[3,4],[4,3],[3,3],[2,1]] should return something along the lines\n",
    "    # of [[1,2],[3,4],[3,3]]\n",
    "    seen = set()\n",
    "    list1 = []\n",
    "    for sublist in list_of_lists: \n",
    "        sorted_tuple = tuple(sorted(sublist))\n",
    "        if sorted_tuple not in seen: \n",
    "            seen.add(sorted_tuple)\n",
    "            list1.append(sublist)\n",
    "    return list1"
   ]
  },
  {
   "cell_type": "code",
   "execution_count": 277,
   "id": "70cb36e3-810f-4fe1-8765-cc65c672999a",
   "metadata": {},
   "outputs": [
    {
     "data": {
      "text/plain": [
       "[[1, 4, 7], [2, 5, 8], [3, 6, 9]]"
      ]
     },
     "execution_count": 277,
     "metadata": {},
     "output_type": "execute_result"
    }
   ],
   "source": [
    "relister([[1,2,3],[4,5,6],[7,8,9]]) \n",
    "# A demonstration of the relister function"
   ]
  },
  {
   "cell_type": "code",
   "execution_count": 279,
   "id": "e9db45b4-a500-4e23-8a04-f3e60689cb97",
   "metadata": {},
   "outputs": [
    {
     "data": {
      "text/plain": [
       "[[1, 2], [3, 4], [3, 3]]"
      ]
     },
     "execution_count": 279,
     "metadata": {},
     "output_type": "execute_result"
    }
   ],
   "source": [
    "unique_lister([[1,2],[3,4],[4,3],[3,3],[2,1]])"
   ]
  },
  {
   "cell_type": "code",
   "execution_count": 287,
   "id": "fe1bacf1-24b3-4ea7-a7c9-40f4ea6e9b49",
   "metadata": {},
   "outputs": [
    {
     "data": {
      "text/plain": [
       "('True', [[1, 7], [5, 5]])"
      ]
     },
     "execution_count": 287,
     "metadata": {},
     "output_type": "execute_result"
    }
   ],
   "source": [
    "def is_sum_of_two_sq(x): \n",
    "    # Identifies whether a given integer x can be expressed as the sum of two squares by successively\n",
    "    # subtracting squares from x and checking whether the remainder is in fact a square \n",
    "    # Returns all possible two-square decompositions\n",
    "    list1 = [] \n",
    "    list2 = [] \n",
    "    for n in range(int((np.sqrt(x/2))+1)): \n",
    "        if np.sqrt(x-n**2)%1 == 0:  \n",
    "            list1.append(n) \n",
    "            list2.append(int(np.sqrt(x-n**2)))\n",
    "    doubles_list = relister([list1, list2])\n",
    "    if doubles_list == []: \n",
    "        return \"False\"\n",
    "    if doubles_list != []: \n",
    "        return \"True\", doubles_list\n",
    "\n",
    "is_sum_of_two_sq(50) \n",
    "# A demonstration of the function"
   ]
  },
  {
   "cell_type": "code",
   "execution_count": 289,
   "id": "e07eeec6-1db5-403a-8cc8-0514db938299",
   "metadata": {},
   "outputs": [
    {
     "data": {
      "text/plain": [
       "('True', [[3, 11, 1], [7, 9, 1], [5, 9, 5]])"
      ]
     },
     "execution_count": 289,
     "metadata": {},
     "output_type": "execute_result"
    }
   ],
   "source": [
    "def is_sum_of_three_sq(x): \n",
    "    # Similarly to the previous function, this function checks whether an integer x can be expressed as\n",
    "    # the sum of three squares by successively subtracting squares from x, but now using the previous  \n",
    "    # function we check whether the remainder can be expressed as the sum of two squares\n",
    "    list3 = []\n",
    "    list1 = []\n",
    "    list2 = []\n",
    "    for n in range(int(np.sqrt(x/2))+1): \n",
    "        if is_sum_of_two_sq(x-n**2)[0] == \"True\":   \n",
    "            for i in range(len(is_sum_of_two_sq(x-n**2)[1])): \n",
    "                list3.append(n) \n",
    "                list1.append(is_sum_of_two_sq(x-n**2)[1][i][0])\n",
    "                list2.append(is_sum_of_two_sq(x-n**2)[1][i][1]) \n",
    "    triplet_list = unique_lister(relister([list1, list2, list3]))\n",
    "    if triplet_list == []: \n",
    "        return \"False\" \n",
    "    if triplet_list != []: \n",
    "        return \"True\", triplet_list\n",
    "\n",
    "\n",
    "is_sum_of_three_sq(131) \n",
    "# A demonstration of the function"
   ]
  },
  {
   "cell_type": "code",
   "execution_count": 273,
   "id": "bb87d3e8-f29c-4b44-b761-3724a8de2d8e",
   "metadata": {},
   "outputs": [
    {
     "data": {
      "text/plain": [
       "(True,\n",
       " [[10, 30, 0, 0],\n",
       "  [18, 26, 0, 0],\n",
       "  [8, 30, 6, 0],\n",
       "  [18, 24, 10, 0],\n",
       "  [14, 28, 4, 2],\n",
       "  [16, 26, 8, 2],\n",
       "  [20, 20, 14, 2],\n",
       "  [16, 22, 16, 2],\n",
       "  [22, 22, 4, 4],\n",
       "  [10, 28, 10, 4],\n",
       "  [20, 22, 10, 4],\n",
       "  [12, 28, 6, 6],\n",
       "  [18, 24, 8, 6],\n",
       "  [12, 26, 12, 6],\n",
       "  [14, 26, 8, 8],\n",
       "  [16, 22, 14, 8],\n",
       "  [20, 20, 10, 10]])"
      ]
     },
     "execution_count": 273,
     "metadata": {},
     "output_type": "execute_result"
    }
   ],
   "source": [
    "def four_square_verifier(x): \n",
    "    # The final product - we should be very surprised if this ever returns \"False\"!\n",
    "    list4 = []\n",
    "    list1 = []\n",
    "    list2 = []\n",
    "    list3 = [] \n",
    "    for n in range(int(np.sqrt(x/2))+1): \n",
    "        if is_sum_of_three_sq(x-n**2)[0] == \"True\": \n",
    "            for i in range(len(is_sum_of_three_sq(x-n**2)[1])): \n",
    "                list4.append(n) \n",
    "                list1.append(is_sum_of_three_sq(x-n**2)[1][i][0]) \n",
    "                list2.append(is_sum_of_three_sq(x-n**2)[1][i][1])\n",
    "                list3.append(is_sum_of_three_sq(x-n**2)[1][i][2]) \n",
    "    quartet_list = unique_lister(relister([list1, list2, list3, list4])) \n",
    "    if quartet_list == []: \n",
    "        return \"False\" \n",
    "    if quartet_list != []: \n",
    "        return \"True\", quartet_list\n",
    "\n",
    "four_square_verifier(1000)"
   ]
  }
 ],
 "metadata": {
  "kernelspec": {
   "display_name": "Python 3 (ipykernel)",
   "language": "python",
   "name": "python3"
  },
  "language_info": {
   "codemirror_mode": {
    "name": "ipython",
    "version": 3
   },
   "file_extension": ".py",
   "mimetype": "text/x-python",
   "name": "python",
   "nbconvert_exporter": "python",
   "pygments_lexer": "ipython3",
   "version": "3.12.7"
  }
 },
 "nbformat": 4,
 "nbformat_minor": 5
}
