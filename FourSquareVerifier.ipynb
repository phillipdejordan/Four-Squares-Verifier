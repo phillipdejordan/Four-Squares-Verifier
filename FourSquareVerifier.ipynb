{
 "cells": [
  {
   "cell_type": "code",
   "execution_count": 9,
   "id": "1edaa775-5a44-4e9e-acf4-1eae7a58adaf",
   "metadata": {},
   "outputs": [],
   "source": [
    "import numpy as np "
   ]
  },
  {
   "cell_type": "code",
   "execution_count": 153,
   "id": "2d501bab-eb4c-4f7f-8cf6-22bb91af29bc",
   "metadata": {},
   "outputs": [],
   "source": [
    "def tuplifier1(list_of_lists): \n",
    "    list1 = []\n",
    "    for i in range(len(list_of_lists[0])): \n",
    "        list_i = [list_of_lists[j][i] for j in range(len(list_of_lists))] \n",
    "        tuple_i = tuple(list_i) \n",
    "        list1.append(tuple_i) \n",
    "    return list1"
   ]
  },
  {
   "cell_type": "code",
   "execution_count": 241,
   "id": "989d646b-a804-40ce-bbe6-d29d3a168670",
   "metadata": {},
   "outputs": [],
   "source": [
    "def relister(list_of_lists): \n",
    "    list1 = []\n",
    "    for i in range(len(list_of_lists[0])): \n",
    "        list_i = [list_of_lists[j][i] for j in range(len(list_of_lists))] \n",
    "        list1.append(list_i)\n",
    "    return list1 \n",
    "\n",
    "def unique_lister(list_of_lists): \n",
    "    seen = set()\n",
    "    list1 = list()\n",
    "    for sublist in list_of_lists: \n",
    "        sorted_tuple = tuple(sorted(sublist))\n",
    "        if sorted_tuple not in seen: \n",
    "            seen.add(sorted_tuple)\n",
    "            list1.append(sublist)\n",
    "    return list1"
   ]
  },
  {
   "cell_type": "code",
   "execution_count": 170,
   "id": "70cb36e3-810f-4fe1-8765-cc65c672999a",
   "metadata": {},
   "outputs": [
    {
     "data": {
      "text/plain": [
       "[[1, 3, 2, 4], [2, 2, 3, 5], [3, 1, 4, 6]]"
      ]
     },
     "execution_count": 170,
     "metadata": {},
     "output_type": "execute_result"
    }
   ],
   "source": [
    "relister([[1,2,3],[3,2,1],[2,3,4],[4,5,6]])"
   ]
  },
  {
   "cell_type": "code",
   "execution_count": 191,
   "id": "0c20cb24-48e6-45ad-b38a-bc030a865955",
   "metadata": {},
   "outputs": [
    {
     "data": {
      "text/plain": [
       "[(1, 3, 2, 4), (2, 2, 3, 5), (3, 1, 4, 6)]"
      ]
     },
     "execution_count": 191,
     "metadata": {},
     "output_type": "execute_result"
    }
   ],
   "source": [
    "tuplifier1([[1,2,3],[3,2,1],[2,3,4],[4,5,6]]) "
   ]
  },
  {
   "cell_type": "code",
   "execution_count": 197,
   "id": "e9db45b4-a500-4e23-8a04-f3e60689cb97",
   "metadata": {},
   "outputs": [
    {
     "data": {
      "text/plain": [
       "[[1, 2]]"
      ]
     },
     "execution_count": 197,
     "metadata": {},
     "output_type": "execute_result"
    }
   ],
   "source": [
    "unique_lister([[1,2],[2,1]])"
   ]
  },
  {
   "cell_type": "code",
   "execution_count": 259,
   "id": "fe1bacf1-24b3-4ea7-a7c9-40f4ea6e9b49",
   "metadata": {},
   "outputs": [
    {
     "data": {
      "text/plain": [
       "('True', [(5, 6)])"
      ]
     },
     "execution_count": 259,
     "metadata": {},
     "output_type": "execute_result"
    }
   ],
   "source": [
    "import numpy as np  \n",
    "\n",
    "def tuplifier(list_of_lists): \n",
    "    list1 = []\n",
    "    for i in range(len()): \n",
    "        list3.append((list1[i],list2[i])) \n",
    "    return list3\n",
    "        \n",
    "\n",
    "def is_sum_of_two_sq(x): \n",
    "    list1 = [] \n",
    "    list2 = [] \n",
    "    for n in range(int((np.sqrt(x/2))+1)): \n",
    "        if np.sqrt(x-n**2)%1 == 0:  \n",
    "            list1.append(n) \n",
    "            list2.append(int(np.sqrt(x-n**2)))\n",
    "    tuplet = tuplifier1([list1, list2])\n",
    "    if tuplet == []: \n",
    "        return \"False\"\n",
    "    if tuplet != []: \n",
    "        return \"True\", tuplet \n",
    "is_sum_of_two_sq(61)"
   ]
  },
  {
   "cell_type": "code",
   "execution_count": 186,
   "id": "92233f6c-ece0-4998-8c71-cebe33d929bd",
   "metadata": {},
   "outputs": [
    {
     "name": "stdout",
     "output_type": "stream",
     "text": [
      "frozenset({1, 2})\n"
     ]
    }
   ],
   "source": [
    "\n",
    "v = frozenset([1,2],[2,1]) "
   ]
  },
  {
   "cell_type": "code",
   "execution_count": 265,
   "id": "e07eeec6-1db5-403a-8cc8-0514db938299",
   "metadata": {},
   "outputs": [
    {
     "data": {
      "text/plain": [
       "('True', [[3, 11, 1], [7, 9, 1], [5, 9, 5]])"
      ]
     },
     "execution_count": 265,
     "metadata": {},
     "output_type": "execute_result"
    }
   ],
   "source": [
    "def is_sum_of_three_sq(x): \n",
    "    list3 = []\n",
    "    list1 = []\n",
    "    list2 = []\n",
    "    for n in range(int(np.sqrt(x/2))+1): \n",
    "        if is_sum_of_two_sq(x-n**2)[0] == \"True\":   \n",
    "            for i in range(len(is_sum_of_two_sq(x-n**2)[1])): \n",
    "                list3.append(n) \n",
    "                list1.append(is_sum_of_two_sq(x-n**2)[1][i][0])\n",
    "                list2.append(is_sum_of_two_sq(x-n**2)[1][i][1]) \n",
    "    triplet_list = unique_lister(relister([list1, list2, list3]))\n",
    "    if triplet_list == []: \n",
    "        return \"False\" \n",
    "    if triplet_list != []: \n",
    "        return \"True\", triplet_list\n",
    "\n",
    "\n",
    "is_sum_of_three_sq(131)"
   ]
  },
  {
   "cell_type": "code",
   "execution_count": 273,
   "id": "bb87d3e8-f29c-4b44-b761-3724a8de2d8e",
   "metadata": {},
   "outputs": [
    {
     "data": {
      "text/plain": [
       "(True,\n",
       " [[10, 30, 0, 0],\n",
       "  [18, 26, 0, 0],\n",
       "  [8, 30, 6, 0],\n",
       "  [18, 24, 10, 0],\n",
       "  [14, 28, 4, 2],\n",
       "  [16, 26, 8, 2],\n",
       "  [20, 20, 14, 2],\n",
       "  [16, 22, 16, 2],\n",
       "  [22, 22, 4, 4],\n",
       "  [10, 28, 10, 4],\n",
       "  [20, 22, 10, 4],\n",
       "  [12, 28, 6, 6],\n",
       "  [18, 24, 8, 6],\n",
       "  [12, 26, 12, 6],\n",
       "  [14, 26, 8, 8],\n",
       "  [16, 22, 14, 8],\n",
       "  [20, 20, 10, 10]])"
      ]
     },
     "execution_count": 273,
     "metadata": {},
     "output_type": "execute_result"
    }
   ],
   "source": [
    "def four_square_verifier(x): \n",
    "    list4 = []\n",
    "    list1 = []\n",
    "    list2 = []\n",
    "    list3 = [] \n",
    "    for n in range(int(np.sqrt(x/2))+1): \n",
    "        if is_sum_of_three_sq(x-n**2)[0] == \"True\": \n",
    "            for i in range(len(is_sum_of_three_sq(x-n**2)[1])): \n",
    "                list4.append(n) \n",
    "                list1.append(is_sum_of_three_sq(x-n**2)[1][i][0]) \n",
    "                list2.append(is_sum_of_three_sq(x-n**2)[1][i][1])\n",
    "                list3.append(is_sum_of_three_sq(x-n**2)[1][i][2]) \n",
    "    quartet_list = unique_lister(relister([list1, list2, list3, list4])) \n",
    "    if quartet_list == []: \n",
    "        return False \n",
    "    if quartet_list != []: \n",
    "        return True, quartet_list\n",
    "\n",
    "four_square_verifier(1000)"
   ]
  }
 ],
 "metadata": {
  "kernelspec": {
   "display_name": "Python 3 (ipykernel)",
   "language": "python",
   "name": "python3"
  },
  "language_info": {
   "codemirror_mode": {
    "name": "ipython",
    "version": 3
   },
   "file_extension": ".py",
   "mimetype": "text/x-python",
   "name": "python",
   "nbconvert_exporter": "python",
   "pygments_lexer": "ipython3",
   "version": "3.12.7"
  }
 },
 "nbformat": 4,
 "nbformat_minor": 5
}
